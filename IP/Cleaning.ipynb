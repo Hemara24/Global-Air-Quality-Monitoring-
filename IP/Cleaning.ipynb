{
 "cells": [
  {
   "cell_type": "markdown",
   "id": "6c69fc10",
   "metadata": {},
   "source": [
    "## <u>Task 1. Import geospatial data (CSV with lat-long)</u>"
   ]
  },
  {
   "cell_type": "markdown",
   "id": "471265a7",
   "metadata": {},
   "source": [
    "### 1. Import Library"
   ]
  },
  {
   "cell_type": "code",
   "execution_count": 8,
   "id": "57cf479d",
   "metadata": {},
   "outputs": [],
   "source": [
    "import pandas as pd"
   ]
  },
  {
   "cell_type": "markdown",
   "id": "b2fbdfc5",
   "metadata": {},
   "source": [
    "### 2. Load the dataset"
   ]
  },
  {
   "cell_type": "code",
   "execution_count": 9,
   "id": "ce13fa52",
   "metadata": {},
   "outputs": [],
   "source": [
    "df = pd.read_csv('AQI.csv')"
   ]
  },
  {
   "cell_type": "markdown",
   "id": "e542e28a",
   "metadata": {},
   "source": [
    "### 3. Handle missing values, especially in coordinates and key value column"
   ]
  },
  {
   "cell_type": "code",
   "execution_count": 10,
   "id": "f0e96908",
   "metadata": {},
   "outputs": [
    {
     "name": "stdout",
     "output_type": "stream",
     "text": [
      "Missing values before cleaning:\n",
      "Country               302\n",
      "City                    0\n",
      "AQI Value               0\n",
      "AQI Category            0\n",
      "CO AQI Value            0\n",
      "CO AQI Category         0\n",
      "Ozone AQI Value         0\n",
      "Ozone AQI Category      0\n",
      "NO2 AQI Value           0\n",
      "NO2 AQI Category        0\n",
      "PM2.5 AQI Value         0\n",
      "PM2.5 AQI Category      0\n",
      "lat                     0\n",
      "lng                     0\n",
      "dtype: int64\n"
     ]
    }
   ],
   "source": [
    "print(\"Missing values before cleaning:\")\n",
    "print(df.isnull().sum())\n",
    "df = df.dropna(subset=['Country', 'City', 'AQI Value', 'AQI Category', 'CO AQI Value', 'CO AQI Category', 'Ozone AQI Value', 'Ozone AQI Category', 'PM2.5 AQI Value', 'PM2.5 AQI Category','lat','lng'])\n"
   ]
  },
  {
   "cell_type": "markdown",
   "id": "3a86c102",
   "metadata": {},
   "source": [
    "### 4. Drop duplicates"
   ]
  },
  {
   "cell_type": "code",
   "execution_count": 11,
   "id": "00a72610",
   "metadata": {},
   "outputs": [],
   "source": [
    "df= df.drop_duplicates(subset=\"City\", keep=\"first\")"
   ]
  },
  {
   "cell_type": "markdown",
   "id": "9991c43b",
   "metadata": {},
   "source": [
    "### 5. Generate sequential hourly timestamps for monitoring"
   ]
  },
  {
   "cell_type": "code",
   "execution_count": 12,
   "id": "11cd67ef",
   "metadata": {},
   "outputs": [],
   "source": [
    "timestamps = pd.date_range(start=\"2023-01-01 00:00:00\", periods=len(df), freq=\"h\")\n",
    "df[\"timestamp\"] = timestamps"
   ]
  },
  {
   "cell_type": "markdown",
   "id": "821fd25a",
   "metadata": {},
   "source": [
    "### 6. Convert timestamp to datetime format"
   ]
  },
  {
   "cell_type": "code",
   "execution_count": 13,
   "id": "e0715827",
   "metadata": {},
   "outputs": [],
   "source": [
    "df['timestamp'] = pd.to_datetime(df['timestamp'], errors='coerce')"
   ]
  },
  {
   "cell_type": "markdown",
   "id": "ce306613",
   "metadata": {},
   "source": [
    "### 7. Save the cleaned dataframe"
   ]
  },
  {
   "cell_type": "code",
   "execution_count": 14,
   "id": "bcc5522d",
   "metadata": {},
   "outputs": [
    {
     "name": "stdout",
     "output_type": "stream",
     "text": [
      "Data cleaned and saved successfully!\n"
     ]
    }
   ],
   "source": [
    "df.to_csv('CAQI.csv', index=False)\n",
    "print(\"Data cleaned and saved successfully!\")"
   ]
  }
 ],
 "metadata": {
  "kernelspec": {
   "display_name": "base",
   "language": "python",
   "name": "python3"
  },
  "language_info": {
   "codemirror_mode": {
    "name": "ipython",
    "version": 3
   },
   "file_extension": ".py",
   "mimetype": "text/x-python",
   "name": "python",
   "nbconvert_exporter": "python",
   "pygments_lexer": "ipython3",
   "version": "3.12.4"
  }
 },
 "nbformat": 4,
 "nbformat_minor": 5
}
