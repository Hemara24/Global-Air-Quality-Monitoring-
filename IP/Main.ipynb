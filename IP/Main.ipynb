{
 "cells": [
  {
   "cell_type": "markdown",
   "id": "1d84526d",
   "metadata": {},
   "source": [
    "## <u>Task 2. Use Bokeh + GeoPandas to plot maps </u>"
   ]
  },
  {
   "cell_type": "markdown",
   "id": "8a09dfd3",
   "metadata": {},
   "source": [
    "### 1. Import Libraries"
   ]
  },
  {
   "cell_type": "code",
   "execution_count": 1,
   "id": "e30ed119",
   "metadata": {},
   "outputs": [
    {
     "name": "stdout",
     "output_type": "stream",
     "text": [
      "Requirement already satisfied: pyproj in d:\\anaconda 3\\anaconda sf\\lib\\site-packages (3.7.2)\n",
      "Requirement already satisfied: certifi in d:\\anaconda 3\\anaconda sf\\lib\\site-packages (from pyproj) (2025.6.15)\n",
      "Note: you may need to restart the kernel to use updated packages.\n"
     ]
    },
    {
     "name": "stderr",
     "output_type": "stream",
     "text": [
      "BokehDeprecationWarning: 'tile_providers module' was deprecated in Bokeh 3.0.0 and will be removed, use 'add_tile directly' instead.\n"
     ]
    }
   ],
   "source": [
    "%pip install pyproj\n",
    "\n",
    "import pandas as pd\n",
    "from bokeh.plotting import figure, curdoc\n",
    "from bokeh.models import ColumnDataSource, HoverTool, LinearColorMapper, ColorBar, Select, Slider\n",
    "from bokeh.layouts import column, row\n",
    "from bokeh.palettes import Viridis256\n",
    "from bokeh.tile_providers import get_provider, CARTODBPOSITRON\n",
    "from pyproj import Transformer"
   ]
  },
  {
   "cell_type": "markdown",
   "id": "8badad48",
   "metadata": {},
   "source": [
    "### 2. Function to convert lat/lng to Web Mercator (for Bokeh tiles)"
   ]
  },
  {
   "cell_type": "code",
   "execution_count": 2,
   "id": "c1acc1c0",
   "metadata": {},
   "outputs": [],
   "source": [
    "def wgs84_to_web_mercator(lng, lat):\n",
    "    transformer = Transformer.from_crs(\"EPSG:4326\", \"EPSG:3857\", always_xy=True)\n",
    "    x, y = transformer.transform(lng, lat)\n",
    "    return x, y"
   ]
  },
  {
   "cell_type": "markdown",
   "id": "581ea399",
   "metadata": {},
   "source": [
    "### 3. Load the CLEANED data"
   ]
  },
  {
   "cell_type": "code",
   "execution_count": 3,
   "id": "71e370d4",
   "metadata": {},
   "outputs": [],
   "source": [
    "df = pd.read_csv('CAQI.csv')"
   ]
  },
  {
   "cell_type": "markdown",
   "id": "2b8070bc",
   "metadata": {},
   "source": [
    "### 4. Convert lat/lng to Web Mercator coordinates"
   ]
  },
  {
   "cell_type": "code",
   "execution_count": 4,
   "id": "819ef1fc",
   "metadata": {},
   "outputs": [],
   "source": [
    "df['x'], df['y'] = wgs84_to_web_mercator(df['lng'].values, df['lat'].values)"
   ]
  },
  {
   "cell_type": "markdown",
   "id": "d9642e02",
   "metadata": {},
   "source": [
    "### 5. Create the main data source for the plot"
   ]
  },
  {
   "cell_type": "code",
   "execution_count": 5,
   "id": "d513b3ab",
   "metadata": {},
   "outputs": [],
   "source": [
    "source = ColumnDataSource(data=df)"
   ]
  },
  {
   "cell_type": "markdown",
   "id": "cc1c7358",
   "metadata": {},
   "source": [
    "### 6. Set up the main plot with a map tile"
   ]
  },
  {
   "cell_type": "code",
   "execution_count": 6,
   "id": "3db16b6d",
   "metadata": {},
   "outputs": [
    {
     "name": "stderr",
     "output_type": "stream",
     "text": [
      "BokehDeprecationWarning: 'get_provider' was deprecated in Bokeh 3.0.0 and will be removed, use 'add_tile directly' instead.\n"
     ]
    },
    {
     "data": {
      "text/html": [
       "<div style=\"display: table;\"><div style=\"display: table-row;\"><div style=\"display: table-cell;\"><b title=\"bokeh.models.renderers.tile_renderer.TileRenderer\">TileRenderer</b>(</div><div style=\"display: table-cell;\">id&nbsp;=&nbsp;'p1037', <span id=\"p1040\" style=\"cursor: pointer;\">&hellip;)</span></div></div><div class=\"p1039\" style=\"display: none;\"><div style=\"display: table-cell;\"></div><div style=\"display: table-cell;\">alpha&nbsp;=&nbsp;1.0,</div></div><div class=\"p1039\" style=\"display: none;\"><div style=\"display: table-cell;\"></div><div style=\"display: table-cell;\">context_menu&nbsp;=&nbsp;None,</div></div><div class=\"p1039\" style=\"display: none;\"><div style=\"display: table-cell;\"></div><div style=\"display: table-cell;\">coordinates&nbsp;=&nbsp;None,</div></div><div class=\"p1039\" style=\"display: none;\"><div style=\"display: table-cell;\"></div><div style=\"display: table-cell;\">group&nbsp;=&nbsp;None,</div></div><div class=\"p1039\" style=\"display: none;\"><div style=\"display: table-cell;\"></div><div style=\"display: table-cell;\">js_event_callbacks&nbsp;=&nbsp;{},</div></div><div class=\"p1039\" style=\"display: none;\"><div style=\"display: table-cell;\"></div><div style=\"display: table-cell;\">js_property_callbacks&nbsp;=&nbsp;{},</div></div><div class=\"p1039\" style=\"display: none;\"><div style=\"display: table-cell;\"></div><div style=\"display: table-cell;\">level&nbsp;=&nbsp;'image',</div></div><div class=\"p1039\" style=\"display: none;\"><div style=\"display: table-cell;\"></div><div style=\"display: table-cell;\">name&nbsp;=&nbsp;None,</div></div><div class=\"p1039\" style=\"display: none;\"><div style=\"display: table-cell;\"></div><div style=\"display: table-cell;\">propagate_hover&nbsp;=&nbsp;False,</div></div><div class=\"p1039\" style=\"display: none;\"><div style=\"display: table-cell;\"></div><div style=\"display: table-cell;\">render_parents&nbsp;=&nbsp;True,</div></div><div class=\"p1039\" style=\"display: none;\"><div style=\"display: table-cell;\"></div><div style=\"display: table-cell;\">smoothing&nbsp;=&nbsp;True,</div></div><div class=\"p1039\" style=\"display: none;\"><div style=\"display: table-cell;\"></div><div style=\"display: table-cell;\">subscribed_events&nbsp;=&nbsp;PropertyValueSet(),</div></div><div class=\"p1039\" style=\"display: none;\"><div style=\"display: table-cell;\"></div><div style=\"display: table-cell;\">syncable&nbsp;=&nbsp;True,</div></div><div class=\"p1039\" style=\"display: none;\"><div style=\"display: table-cell;\"></div><div style=\"display: table-cell;\">tags&nbsp;=&nbsp;[],</div></div><div class=\"p1039\" style=\"display: none;\"><div style=\"display: table-cell;\"></div><div style=\"display: table-cell;\">tile_source&nbsp;=&nbsp;WMTSTileSource(id='p1036', ...),</div></div><div class=\"p1039\" style=\"display: none;\"><div style=\"display: table-cell;\"></div><div style=\"display: table-cell;\">visible&nbsp;=&nbsp;True,</div></div><div class=\"p1039\" style=\"display: none;\"><div style=\"display: table-cell;\"></div><div style=\"display: table-cell;\">x_range_name&nbsp;=&nbsp;'default',</div></div><div class=\"p1039\" style=\"display: none;\"><div style=\"display: table-cell;\"></div><div style=\"display: table-cell;\">y_range_name&nbsp;=&nbsp;'default')</div></div></div>\n",
       "<script>\n",
       "(function() {\n",
       "  let expanded = false;\n",
       "  const ellipsis = document.getElementById(\"p1040\");\n",
       "  ellipsis.addEventListener(\"click\", function() {\n",
       "    const rows = document.getElementsByClassName(\"p1039\");\n",
       "    for (let i = 0; i < rows.length; i++) {\n",
       "      const el = rows[i];\n",
       "      el.style.display = expanded ? \"none\" : \"table-row\";\n",
       "    }\n",
       "    ellipsis.innerHTML = expanded ? \"&hellip;)\" : \"&lsaquo;&lsaquo;&lsaquo;\";\n",
       "    expanded = !expanded;\n",
       "  });\n",
       "})();\n",
       "</script>\n"
      ],
      "text/plain": [
       "TileRenderer(id='p1037', ...)"
      ]
     },
     "execution_count": 6,
     "metadata": {},
     "output_type": "execute_result"
    }
   ],
   "source": [
    "from bokeh.tile_providers import get_provider\n",
    "\n",
    "p = figure(\n",
    "    x_axis_type=\"mercator\",\n",
    "    y_axis_type=\"mercator\",\n",
    "    tools=\"pan,wheel_zoom,box_zoom,reset,save\",\n",
    "    title=\"Live Air Quality Monitoring\",\n",
    "    width=1000,\n",
    "    height=600\n",
    ")\n",
    "p.add_tile(get_provider(CARTODBPOSITRON))"
   ]
  },
  {
   "cell_type": "markdown",
   "id": "9f1ce279",
   "metadata": {},
   "source": [
    "### 7. Create a color mapper based on your PM2.5 values"
   ]
  },
  {
   "cell_type": "code",
   "execution_count": 7,
   "id": "b7859ad8",
   "metadata": {},
   "outputs": [],
   "source": [
    "color_mapper = LinearColorMapper(\n",
    "    palette=Viridis256,\n",
    "    low=df['AQI Value'].min(), \n",
    "    high=df['AQI Value'].max()\n",
    ")"
   ]
  },
  {
   "cell_type": "markdown",
   "id": "adb245d1",
   "metadata": {},
   "source": [
    "### 8. Plot the data points on the map"
   ]
  },
  {
   "cell_type": "code",
   "execution_count": 8,
   "id": "3eea0b5c",
   "metadata": {},
   "outputs": [
    {
     "name": "stderr",
     "output_type": "stream",
     "text": [
      "BokehDeprecationWarning: 'circle() method with size value' was deprecated in Bokeh 3.4.0 and will be removed, use 'scatter(size=...) instead' instead.\n"
     ]
    }
   ],
   "source": [
    "points = p.circle(\n",
    "    x='x',\n",
    "    y='y',\n",
    "    source=source,\n",
    "    size=8,\n",
    "    color={'field': 'AQI Value', 'transform': color_mapper}, \n",
    "    alpha=0.7,\n",
    "    legend_label=\"AQI Value\" \n",
    ")"
   ]
  },
  {
   "cell_type": "markdown",
   "id": "d74f2dd9",
   "metadata": {},
   "source": [
    "### 9. Add a color bar to show the scale"
   ]
  },
  {
   "cell_type": "code",
   "execution_count": 9,
   "id": "fc4c08aa",
   "metadata": {},
   "outputs": [],
   "source": [
    "color_bar = ColorBar(color_mapper=color_mapper, label_standoff=12, location=(0,0), title='AQI Value')\n",
    "p.add_layout(color_bar, 'right')"
   ]
  },
  {
   "cell_type": "markdown",
   "id": "46e5c236",
   "metadata": {},
   "source": [
    "## <u> Task 3. Add interactive elements</u >"
   ]
  },
  {
   "cell_type": "markdown",
   "id": "1cbc48f7",
   "metadata": {},
   "source": [
    "### 1. Add Hover Tooltips"
   ]
  },
  {
   "cell_type": "code",
   "execution_count": 10,
   "id": "f2cc476f",
   "metadata": {},
   "outputs": [
    {
     "name": "stdout",
     "output_type": "stream",
     "text": [
      "Hover tooltips added.\n"
     ]
    }
   ],
   "source": [
    "hover = HoverTool(\n",
    "    renderers=[points],\n",
    "    tooltips=[\n",
    "        (\"City\", \"@City\"),\n",
    "        (\"Country\", \"@Country\"),\n",
    "        (\"AQI Value\", \"@{AQI Value}\"),\n",
    "        (\"AQI Category\", \"@{AQICategory}\"),\n",
    "        (\"PM2.5\", \"@{PM2.5 AQI Value}\"),\n",
    "        (\"Ozone\", \"@{Ozone AQI Value}\"),\n",
    "        (\"Timestamp\", \"@timestamp{%F %T}\"),\n",
    "        (\"Loaction\", \"(@lat, @lng)\")\n",
    "    ],\n",
    "    formatters={\n",
    "        '@timestamp': 'datetime'  \n",
    "    }\n",
    ")\n",
    "p.add_tools(hover)\n",
    "print(\"Hover tooltips added.\")"
   ]
  },
  {
   "cell_type": "markdown",
   "id": "f6fd2151",
   "metadata": {},
   "source": [
    "### 2. Add a Time Slider"
   ]
  },
  {
   "cell_type": "code",
   "execution_count": 11,
   "id": "ad389e96",
   "metadata": {},
   "outputs": [
    {
     "name": "stdout",
     "output_type": "stream",
     "text": [
      "Time slider added.\n"
     ]
    }
   ],
   "source": [
    "from bokeh.models import CustomJS\n",
    "\n",
    "df['time_numeric'] = pd.to_datetime(df['timestamp']).astype('int64') // 10**9\n",
    "time_min = int(df['time_numeric'].min())\n",
    "time_max = int(df['time_numeric'].max())\n",
    "\n",
    "time_slider = Slider(start=time_min, end=time_max, value=time_min, \n",
    "                    step=3600, title=\"Time (seconds from start)\")  \n",
    "\n",
    "time_slider.js_on_change('value', CustomJS(args={'source': source}, code=\"\"\"\n",
    "    const data = source.data;\n",
    "    const selected_time = cb_obj.value;\n",
    "    const time_data = data['time_numeric'];\n",
    "    const n = time_data.length;\n",
    "    \n",
    "    // Create a new array of indices to keep (within ± 1800 seconds = 30 minutes)\n",
    "    const new_indices = [];\n",
    "    for (let i = 0; i < n; i++) {\n",
    "        if (Math.abs(time_data[i] - selected_time) < 1800) {\n",
    "            new_indices.push(i);\n",
    "        }\n",
    "    }\n",
    "    source.selected.indices = new_indices;\n",
    "\"\"\"))\n",
    "print(\"Time slider added.\")"
   ]
  },
  {
   "cell_type": "markdown",
   "id": "69ff7412",
   "metadata": {},
   "source": [
    "### 3. Add a Filter for Categories"
   ]
  },
  {
   "cell_type": "code",
   "execution_count": 12,
   "id": "feee79a9",
   "metadata": {},
   "outputs": [
    {
     "name": "stdout",
     "output_type": "stream",
     "text": [
      "Risk filter added.\n"
     ]
    }
   ],
   "source": [
    "def categorize_aqi(aqi):\n",
    "    if aqi <= 50:\n",
    "        return \"Good\"\n",
    "    elif aqi <= 100:\n",
    "        return \"Moderate\"\n",
    "    elif aqi <= 150:\n",
    "        return \"Unhealthy\"\n",
    "    else:\n",
    "        return \"Hazardous\"\n",
    "\n",
    "df['risk'] = df['AQI Value'].apply(categorize_aqi)\n",
    "source.data['risk'] = df['risk'] \n",
    "\n",
    "risk_options = ['All'] + sorted(df['risk'].unique().tolist())\n",
    "risk_filter = Select(title=\"Filter by Risk Level:\", value=\"All\", options=risk_options)\n",
    "\n",
    "risk_filter.js_on_change('value', CustomJS(args={'source': source}, code=\"\"\"\n",
    "    const selected_risk = cb_obj.value;\n",
    "    const risk_data = source.data['risk'];\n",
    "    const n = risk_data.length;\n",
    "    \n",
    "    const new_indices = [];\n",
    "    for (let i = 0; i < n; i++) {\n",
    "        if (selected_risk === 'All' || risk_data[i] === selected_risk) {\n",
    "            new_indices.push(i);\n",
    "        }\n",
    "    }\n",
    "    source.selected.indices = new_indices;\n",
    "\"\"\"))\n",
    "print(\"Risk filter added.\")"
   ]
  },
  {
   "cell_type": "markdown",
   "id": "fe2659a7",
   "metadata": {},
   "source": [
    "* ### Final Layout and Deployment"
   ]
  },
  {
   "cell_type": "code",
   "execution_count": 13,
   "id": "237e2b78",
   "metadata": {},
   "outputs": [
    {
     "name": "stdout",
     "output_type": "stream",
     "text": [
      "Dashboard setup complete. Running Bokeh server...\n"
     ]
    }
   ],
   "source": [
    "layout = column(risk_filter, time_slider, p)\n",
    "\n",
    "curdoc().add_root(layout)\n",
    "curdoc().title = \"Global Air Quality Dashboard\"\n",
    "\n",
    "print(\"Dashboard setup complete. Running Bokeh server...\")"
   ]
  },
  {
   "cell_type": "markdown",
   "id": "38aa35b7",
   "metadata": {},
   "source": [
    "## <u>Task 4. Provide choropleth-style visualization</u>"
   ]
  },
  {
   "cell_type": "markdown",
   "id": "c2a00111",
   "metadata": {},
   "source": [
    "### 1. Create a heatmap effect"
   ]
  },
  {
   "cell_type": "code",
   "execution_count": 14,
   "id": "ca35c033",
   "metadata": {},
   "outputs": [],
   "source": [
    "from bokeh.models import LinearColorMapper, ColorBar\n",
    "from bokeh.palettes import Plasma256"
   ]
  },
  {
   "cell_type": "markdown",
   "id": "19f0b42d",
   "metadata": {},
   "source": [
    "### 2. Create a more detailed color mapper for the choropleth effect"
   ]
  },
  {
   "cell_type": "code",
   "execution_count": 15,
   "id": "16d7638a",
   "metadata": {},
   "outputs": [],
   "source": [
    "choropleth_mapper = LinearColorMapper(\n",
    "    palette=Plasma256,  # Alternative color palette\n",
    "    low=df['AQI Value'].min(),\n",
    "    high=df['AQI Value'].max(),\n",
    "    nan_color='gray'  # Color for missing values\n",
    ")"
   ]
  },
  {
   "cell_type": "markdown",
   "id": "02354076",
   "metadata": {},
   "source": [
    "### 3. Re-plot the points with the choropleth color mapping through removing previous points firstly"
   ]
  },
  {
   "cell_type": "code",
   "execution_count": 16,
   "id": "fbb344d1",
   "metadata": {},
   "outputs": [],
   "source": [
    "p.renderers = [p.renderers[0]]  # Keep only the base tile\n"
   ]
  },
  {
   "cell_type": "markdown",
   "id": "e0ebfe7d",
   "metadata": {},
   "source": [
    "### 4. Add the choropleth-style points"
   ]
  },
  {
   "cell_type": "code",
   "execution_count": 17,
   "id": "d6279ddb",
   "metadata": {},
   "outputs": [
    {
     "name": "stderr",
     "output_type": "stream",
     "text": [
      "BokehDeprecationWarning: 'circle() method with size value' was deprecated in Bokeh 3.4.0 and will be removed, use 'scatter(size=...) instead' instead.\n"
     ]
    }
   ],
   "source": [
    "choropleth_points = p.circle(\n",
    "    x='x',\n",
    "    y='y',\n",
    "    source=source,\n",
    "    size=12, \n",
    "    color={'field': 'AQI Value', 'transform': choropleth_mapper},\n",
    "    alpha=0.8,\n",
    "    line_color='white',\n",
    "    line_width=0.5,\n",
    "    legend_label=\"AQI Intensity\"\n",
    ")"
   ]
  },
  {
   "cell_type": "markdown",
   "id": "566d0976",
   "metadata": {},
   "source": [
    "### 5. Add a proper color bar for the choropleth"
   ]
  },
  {
   "cell_type": "code",
   "execution_count": 18,
   "id": "58a5ebbb",
   "metadata": {},
   "outputs": [
    {
     "name": "stdout",
     "output_type": "stream",
     "text": [
      "Choropleth-style visualization added with intensity-based coloring.\n"
     ]
    }
   ],
   "source": [
    "color_bar = ColorBar(\n",
    "    color_mapper=choropleth_mapper,\n",
    "    label_standoff=15,\n",
    "    width=20,\n",
    "    height=400,\n",
    "    location=(0, 0),\n",
    "    title=\"AQI Intensity\",\n",
    "    title_text_font_size='12pt'\n",
    ")\n",
    "p.add_layout(color_bar, 'right')\n",
    "\n",
    "print(\"Choropleth-style visualization added with intensity-based coloring.\")"
   ]
  }
 ],
 "metadata": {
  "kernelspec": {
   "display_name": "base",
   "language": "python",
   "name": "python3"
  },
  "language_info": {
   "codemirror_mode": {
    "name": "ipython",
    "version": 3
   },
   "file_extension": ".py",
   "mimetype": "text/x-python",
   "name": "python",
   "nbconvert_exporter": "python",
   "pygments_lexer": "ipython3",
   "version": "3.12.4"
  }
 },
 "nbformat": 4,
 "nbformat_minor": 5
}
